{
 "cells": [
  {
   "cell_type": "code",
   "execution_count": 11,
   "id": "95ce41d1-1217-4bea-8d72-84e6353e01b5",
   "metadata": {},
   "outputs": [],
   "source": [
    "import gym\n",
    "import random\n",
    "import numpy as np\n",
    "import matplotlib.pyplot as plt"
   ]
  },
  {
   "cell_type": "code",
   "execution_count": 12,
   "id": "76f26fb5-f769-4fa7-9ca7-8157bce53e87",
   "metadata": {},
   "outputs": [],
   "source": [
    "environment = gym.make(\"FrozenLake-v1\", is_slippery = False, render_mode = \"ansi\")"
   ]
  },
  {
   "cell_type": "code",
   "execution_count": 13,
   "id": "7e25c9ce-ddfd-495b-bdfe-72d86b5bbd0a",
   "metadata": {},
   "outputs": [
    {
     "data": {
      "text/plain": [
       "(0, {'prob': 1})"
      ]
     },
     "execution_count": 13,
     "metadata": {},
     "output_type": "execute_result"
    }
   ],
   "source": [
    "environment.reset()"
   ]
  },
  {
   "cell_type": "code",
   "execution_count": 14,
   "id": "a6a36bf1-e165-494e-9c87-6d31c6ad7537",
   "metadata": {},
   "outputs": [
    {
     "name": "stdout",
     "output_type": "stream",
     "text": [
      "\n",
      "\u001b[41mS\u001b[0mFFF\n",
      "FHFH\n",
      "FFFH\n",
      "HFFG\n",
      "\n"
     ]
    }
   ],
   "source": [
    "print(environment.render())"
   ]
  },
  {
   "cell_type": "markdown",
   "id": "ec509de1-f8fb-4917-8712-fc8a94bdf04f",
   "metadata": {},
   "source": [
    "SFFF\n",
    "FHFH\n",
    "FFFH\n",
    "HFFG\n",
    "\n",
    "S:START(BAŞLANGIÇ), G:GOAL(HEDEF), F:FROZEN(DONMUŞ), H:HOLE(DELİK)\n",
    "\n",
    "0:left, 1:down, 2:right, 3:up"
   ]
  },
  {
   "cell_type": "code",
   "execution_count": 15,
   "id": "01126dc6-70b3-468d-bb94-eabcda8086a5",
   "metadata": {},
   "outputs": [
    {
     "data": {
      "text/plain": [
       "16"
      ]
     },
     "execution_count": 15,
     "metadata": {},
     "output_type": "execute_result"
    }
   ],
   "source": [
    "nb_states = environment.observation_space.n\n",
    "nb_states"
   ]
  },
  {
   "cell_type": "code",
   "execution_count": 16,
   "id": "cce97103-1cdf-4e84-8634-e64fc7e3ee9a",
   "metadata": {},
   "outputs": [
    {
     "data": {
      "text/plain": [
       "4"
      ]
     },
     "execution_count": 16,
     "metadata": {},
     "output_type": "execute_result"
    }
   ],
   "source": [
    "nb_actions = environment.action_space.n\n",
    "nb_actions"
   ]
  },
  {
   "cell_type": "code",
   "execution_count": 17,
   "id": "3eaca06a-81d7-4b96-ab0a-2654e95bdf50",
   "metadata": {},
   "outputs": [
    {
     "data": {
      "text/plain": [
       "array([[0., 0., 0., 0.],\n",
       "       [0., 0., 0., 0.],\n",
       "       [0., 0., 0., 0.],\n",
       "       [0., 0., 0., 0.],\n",
       "       [0., 0., 0., 0.],\n",
       "       [0., 0., 0., 0.],\n",
       "       [0., 0., 0., 0.],\n",
       "       [0., 0., 0., 0.],\n",
       "       [0., 0., 0., 0.],\n",
       "       [0., 0., 0., 0.],\n",
       "       [0., 0., 0., 0.],\n",
       "       [0., 0., 0., 0.],\n",
       "       [0., 0., 0., 0.],\n",
       "       [0., 0., 0., 0.],\n",
       "       [0., 0., 0., 0.],\n",
       "       [0., 0., 0., 0.]])"
      ]
     },
     "execution_count": 17,
     "metadata": {},
     "output_type": "execute_result"
    }
   ],
   "source": [
    "# q table: state(16) * actions (4)\n",
    "q_table = np.zeros((nb_states,nb_actions))\n",
    "q_table"
   ]
  },
  {
   "cell_type": "code",
   "execution_count": 18,
   "id": "38c961c9-adde-4c44-9fe4-26563b7ca4af",
   "metadata": {},
   "outputs": [],
   "source": [
    "#hyperparameter\n",
    "episodes = 1000 #total number of episodes\n",
    "alpha =0.5 #learning rate\n",
    "gamma = 0.9 #discount factor\n",
    "outcomes = [] # list of outcomes to plot"
   ]
  },
  {
   "cell_type": "code",
   "execution_count": 20,
   "id": "25c14898-562c-4135-9a33-219239f17a46",
   "metadata": {},
   "outputs": [],
   "source": [
    "#training \n",
    "for _ in range(episodes):\n",
    "    state,_= environment.reset()\n",
    "    done = False\n",
    "    outcomes.append(\"Failure\")\n",
    "    while not done:\n",
    "        #select action\n",
    "        if np.max(q_table[state]>0):\n",
    "            action = np.argmax(q_table[state])\n",
    "        else:\n",
    "            action = environment.action_space.sample()\n",
    "\n",
    "        #implement action\n",
    "        new_state, reward, done, info, _ = environment.step(action)\n",
    "\n",
    "        #updatin q table,Q(s,a)\n",
    "        q_table[state,action] = q_table[state,action] + alpha*(reward + gamma*np.max(q_table[new_state]) - q_table[state,action])\n",
    "\n",
    "        #update state\n",
    "        state = new_state\n",
    "        if reward:\n",
    "            outcomes[-1] = \"Success\""
   ]
  },
  {
   "cell_type": "code",
   "execution_count": 21,
   "id": "e004740f-f9d9-40c9-a303-28839a82988b",
   "metadata": {},
   "outputs": [
    {
     "data": {
      "text/plain": [
       "array([[0.       , 0.59049  , 0.       , 0.       ],\n",
       "       [0.       , 0.       , 0.       , 0.       ],\n",
       "       [0.       , 0.       , 0.       , 0.       ],\n",
       "       [0.       , 0.       , 0.       , 0.       ],\n",
       "       [0.       , 0.6561   , 0.       , 0.       ],\n",
       "       [0.       , 0.       , 0.       , 0.       ],\n",
       "       [0.       , 0.2784375, 0.       , 0.       ],\n",
       "       [0.       , 0.       , 0.       , 0.       ],\n",
       "       [0.       , 0.       , 0.729    , 0.       ],\n",
       "       [0.       , 0.       , 0.81     , 0.       ],\n",
       "       [0.       , 0.9      , 0.       , 0.       ],\n",
       "       [0.       , 0.       , 0.       , 0.       ],\n",
       "       [0.       , 0.       , 0.       , 0.       ],\n",
       "       [0.       , 0.       , 0.       , 0.       ],\n",
       "       [0.       , 0.       , 1.       , 0.       ],\n",
       "       [0.       , 0.       , 0.       , 0.       ]])"
      ]
     },
     "execution_count": 21,
     "metadata": {},
     "output_type": "execute_result"
    }
   ],
   "source": [
    "q_table"
   ]
  },
  {
   "cell_type": "code",
   "execution_count": 22,
   "id": "e0532225-c98d-4f4c-b0f5-e6da125237b5",
   "metadata": {},
   "outputs": [
    {
     "data": {
      "text/plain": [
       "<BarContainer object of 1001 artists>"
      ]
     },
     "execution_count": 22,
     "metadata": {},
     "output_type": "execute_result"
    },
    {
     "data": {
      "image/png": "[encoded data removed]",
      "text/plain": [
       "<Figure size 1000x500 with 1 Axes>"
      ]
     },
     "metadata": {},
     "output_type": "display_data"
    }
   ],
   "source": [
    "plt.figure(figsize=(10, 5))  \n",
    "plt.xlabel(\"Episode Number\", fontsize=12, fontweight=\"bold\", color=\"#333\")\n",
    "plt.ylabel(\"Outcome\", fontsize=12, fontweight=\"bold\", color=\"#333\")\n",
    "plt.title(\"Training Outcomes per Episode\", fontsize=14, fontweight=\"bold\", color=\"#444\")\n",
    "\n",
    "ax = plt.gca()\n",
    "ax.set_facecolor(\"#f5f5f5\")  # Let's make the background color more pleasant\n",
    "plt.grid(axis=\"y\", linestyle=\"--\", alpha=0.6)  # add a grid along the Y axis\n",
    "\n",
    "# Çubukları görsel olarak daha hoş hale getirelim\n",
    "plt.bar(range(len(outcomes)), outcomes, \n",
    "        color=\"black\", \n",
    "        edgecolor=\"indigo\", \n",
    "        linewidth=0.7, \n",
    "        width=1)"
   ]
  },
  {
   "cell_type": "code",
   "execution_count": 23,
   "id": "d0e1bfb7-4a0e-456c-8b74-95c8ba68f7c3",
   "metadata": {},
   "outputs": [
    {
     "name": "stdout",
     "output_type": "stream",
     "text": [
      "Total 923 episode completed successfully.\n",
      "Success rate: %92.21\n",
      "The first success occurred in episode 62.\n"
     ]
    }
   ],
   "source": [
    "# How many episodes have been completed successfully?\n",
    "successful_episodes = outcomes.count(\"Success\")\n",
    "total_episodes = len(outcomes)\n",
    "\n",
    "# In which episode did the first success take place?\n",
    "first_success_episode = outcomes.index(\"Success\") if \"Success\" in outcomes else None\n",
    "\n",
    "#Percentage of success\n",
    "success_rate = (successful_episodes / total_episodes) * 100\n",
    "\n",
    "print(f\"Total {successful_episodes} episode completed successfully.\")\n",
    "print(f\"Success rate: %{success_rate:.2f}\")\n",
    "\n",
    "if first_success_episode is not None:\n",
    "    print(f\"The first success occurred in episode {first_success_episode}.\")\n",
    "else:\n",
    "    print(\"No success has been achieved yet.\")"
   ]
  }
 ],
 "metadata": {
  "kernelspec": {
   "display_name": "Python 3 (ipykernel)",
   "language": "python",
   "name": "python3"
  },
  "language_info": {
   "codemirror_mode": {
    "name": "ipython",
    "version": 3
   },
   "file_extension": ".py",
   "mimetype": "text/x-python",
   "name": "python",
   "nbconvert_exporter": "python",
   "pygments_lexer": "ipython3",
   "version": "3.13.2"
  }
 },
 "nbformat": 4,
 "nbformat_minor": 5
}
